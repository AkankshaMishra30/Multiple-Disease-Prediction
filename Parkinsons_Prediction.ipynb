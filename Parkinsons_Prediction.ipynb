{
  "nbformat": 4,
  "nbformat_minor": 0,
  "metadata": {
    "colab": {
      "provenance": [],
      "authorship_tag": "ABX9TyMCA+l0WmmSZfq1ouf+M6gH",
      "include_colab_link": true
    },
    "kernelspec": {
      "name": "python3",
      "display_name": "Python 3"
    },
    "language_info": {
      "name": "python"
    }
  },
  "cells": [
    {
      "cell_type": "markdown",
      "metadata": {
        "id": "view-in-github",
        "colab_type": "text"
      },
      "source": [
        "<a href=\"https://colab.research.google.com/github/AkankshaMishra30/Multiple-Disease-Prediction/blob/main/Parkinsons_Prediction.ipynb\" target=\"_parent\"><img src=\"https://colab.research.google.com/assets/colab-badge.svg\" alt=\"Open In Colab\"/></a>"
      ]
    },
    {
      "cell_type": "code",
      "execution_count": 1,
      "metadata": {
        "colab": {
          "base_uri": "https://localhost:8080/"
        },
        "id": "3WG_27Ajntmw",
        "outputId": "3f28eef0-51b4-44ab-bae1-390f728f632a"
      },
      "outputs": [
        {
          "output_type": "stream",
          "name": "stdout",
          "text": [
            "Training accuracy: 0.8846153846153846\n",
            "Test accuracy    : 0.8717948717948718\n",
            "[0]\n",
            "The Person does not have Parkinson's Disease\n"
          ]
        }
      ],
      "source": [
        "import numpy as np\n",
        "import pandas as pd\n",
        "from sklearn.model_selection import train_test_split\n",
        "from sklearn.preprocessing import StandardScaler\n",
        "from sklearn import svm\n",
        "from sklearn.metrics import accuracy_score\n",
        "import pickle\n",
        "\n",
        "# Load dataset\n",
        "parkinsons_data = pd.read_csv('/content/parkinsons.csv')\n",
        "\n",
        "# Split data\n",
        "X = parkinsons_data.drop(columns=['name', 'status'], axis=1)\n",
        "Y = parkinsons_data['status']\n",
        "\n",
        "# Train-test split\n",
        "X_train, X_test, Y_train, Y_test = train_test_split(X, Y, test_size=0.2, random_state=2)\n",
        "\n",
        "# Scaling\n",
        "scaler = StandardScaler()\n",
        "scaler.fit(X_train)\n",
        "X_train_scaled = scaler.transform(X_train)\n",
        "X_test_scaled = scaler.transform(X_test)\n",
        "\n",
        "# Train model\n",
        "model = svm.SVC(kernel='linear')\n",
        "model.fit(X_train_scaled, Y_train)\n",
        "\n",
        "# Evaluate\n",
        "X_train_pred = model.predict(X_train_scaled)\n",
        "X_test_pred = model.predict(X_test_scaled)\n",
        "\n",
        "print(\"Training accuracy:\", accuracy_score(Y_train, X_train_pred))\n",
        "print(\"Test accuracy    :\", accuracy_score(Y_test, X_test_pred))\n",
        "\n",
        "# Save model and scaler\n",
        "pickle.dump(model, open(\"parkinsons_trained_model.sav\", \"wb\"))\n",
        "pickle.dump(scaler, open(\"parkinsons_scaler.sav\", \"wb\"))\n",
        "\n",
        "# ------- Prediction System -------\n",
        "\n",
        "input_data = (197.07600,206.89600,192.05500,0.00289,0.00001,0.00166,0.00168,0.00498,\n",
        "              0.01098,0.09700,0.00563,0.00680,0.00802,0.01689,0.00339,26.77500,\n",
        "              0.422229,0.741367,-7.348300,0.177551,1.743867,0.085569)\n",
        "\n",
        "feature_names = X.columns.tolist()\n",
        "input_df = pd.DataFrame([input_data], columns=feature_names)\n",
        "\n",
        "# Load model and scaler for prediction\n",
        "loaded_model = pickle.load(open(\"parkinsons_trained_model.sav\", \"rb\"))\n",
        "loaded_scaler = pickle.load(open(\"parkinsons_scaler.sav\", \"rb\"))\n",
        "\n",
        "# Scale and predict\n",
        "input_scaled = loaded_scaler.transform(input_df)\n",
        "prediction = loaded_model.predict(input_scaled)\n",
        "\n",
        "print(prediction)\n",
        "if prediction[0] == 0:\n",
        "    print(\"The Person does not have Parkinson's Disease\")\n",
        "else:\n",
        "    print(\"The Person has Parkinson's Disease\")\n"
      ]
    }
  ]
}