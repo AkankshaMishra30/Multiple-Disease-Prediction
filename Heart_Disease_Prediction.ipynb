{
  "nbformat": 4,
  "nbformat_minor": 0,
  "metadata": {
    "colab": {
      "provenance": [],
      "authorship_tag": "ABX9TyMkIjUn3NX5uP25HA+T+tKo",
      "include_colab_link": true
    },
    "kernelspec": {
      "name": "python3",
      "display_name": "Python 3"
    },
    "language_info": {
      "name": "python"
    }
  },
  "cells": [
    {
      "cell_type": "markdown",
      "metadata": {
        "id": "view-in-github",
        "colab_type": "text"
      },
      "source": [
        "<a href=\"https://colab.research.google.com/github/AkankshaMishra30/Multiple-Disease-Prediction/blob/main/Heart_Disease_Prediction.ipynb\" target=\"_parent\"><img src=\"https://colab.research.google.com/assets/colab-badge.svg\" alt=\"Open In Colab\"/></a>"
      ]
    },
    {
      "cell_type": "code",
      "execution_count": 3,
      "metadata": {
        "colab": {
          "base_uri": "https://localhost:8080/"
        },
        "id": "2-Oko6sg-c1i",
        "outputId": "6c5314fd-bfd1-40d4-b39f-54beb3c7d5ac"
      },
      "outputs": [
        {
          "output_type": "stream",
          "name": "stdout",
          "text": [
            "(303, 13) (242, 13) (61, 13)\n",
            "Accuracy on Training data : 0.8553719008264463\n",
            "Accuracy on Test data     : 0.8032786885245902\n",
            "[1]\n",
            "The Person has Heart Disease\n"
          ]
        }
      ],
      "source": [
        "import numpy as np\n",
        "import pandas as pd\n",
        "from sklearn.model_selection import train_test_split\n",
        "from sklearn.linear_model import LogisticRegression\n",
        "from sklearn.metrics import accuracy_score\n",
        "import pickle\n",
        "\n",
        "# Load the dataset\n",
        "heart_data = pd.read_csv('/content/heart_disease_data.csv')\n",
        "\n",
        "# Split features and label\n",
        "X = heart_data.drop(columns='target', axis=1)\n",
        "Y = heart_data['target']\n",
        "\n",
        "# Train-test split\n",
        "X_train, X_test, Y_train, Y_test = train_test_split(X, Y, test_size=0.2, stratify=Y, random_state=2)\n",
        "print(X.shape, X_train.shape, X_test.shape)\n",
        "\n",
        "# Model training\n",
        "model = LogisticRegression(max_iter=1000)\n",
        "model.fit(X_train, Y_train)\n",
        "\n",
        "# Evaluation\n",
        "X_train_prediction = model.predict(X_train)\n",
        "training_data_accuracy = accuracy_score(Y_train, X_train_prediction)\n",
        "\n",
        "X_test_prediction = model.predict(X_test)\n",
        "test_data_accuracy = accuracy_score(Y_test, X_test_prediction)\n",
        "\n",
        "print('Accuracy on Training data :', training_data_accuracy)\n",
        "print('Accuracy on Test data     :', test_data_accuracy)\n",
        "\n",
        "# Save the model\n",
        "filename = \"heartdisease_trained_model.sav\"\n",
        "pickle.dump(model, open(filename, \"wb\"))\n",
        "\n",
        "# -------- Prediction System --------\n",
        "\n",
        "input_data = (34, 0, 1, 118, 210, 0, 1, 192, 0, 0.7, 2, 0, 2)\n",
        "feature_names = X.columns.tolist()  # ensures consistency with training\n",
        "\n",
        "# Convert input to DataFrame\n",
        "input_df = pd.DataFrame([input_data], columns=feature_names)\n",
        "\n",
        "# Load model\n",
        "loaded_model = pickle.load(open(\"heartdisease_trained_model.sav\", \"rb\"))\n",
        "\n",
        "# Predict\n",
        "prediction = loaded_model.predict(input_df)\n",
        "print(prediction)\n",
        "\n",
        "if prediction[0] == 0:\n",
        "    print('The Person does not have a Heart Disease')\n",
        "else:\n",
        "    print('The Person has Heart Disease')\n"
      ]
    }
  ]
}